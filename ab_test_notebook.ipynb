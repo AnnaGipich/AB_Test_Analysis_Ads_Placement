{
  "nbformat": 4,
  "nbformat_minor": 0,
  "metadata": {
    "colab": {
      "provenance": []
    },
    "kernelspec": {
      "name": "python3",
      "display_name": "Python 3"
    },
    "language_info": {
      "name": "python"
    }
  },
  "cells": [
    {
      "cell_type": "code",
      "execution_count": 26,
      "metadata": {
        "id": "fhly-do60582"
      },
      "outputs": [],
      "source": [
        "import pandas as pd\n"
      ]
    },
    {
      "cell_type": "code",
      "source": [
        "df = pd.read_csv('/content/drive/MyDrive/Интенсив zero/data_raw.csv')"
      ],
      "metadata": {
        "id": "JKl7KhRj1HIJ"
      },
      "execution_count": 27,
      "outputs": []
    },
    {
      "cell_type": "code",
      "source": [
        "df2 = pd.read_excel('/content/drive/MyDrive/Интенсив zero/final_results_to_analyze.xlsx')"
      ],
      "metadata": {
        "id": "_yUKGCSB1UXd"
      },
      "execution_count": 28,
      "outputs": []
    },
    {
      "cell_type": "markdown",
      "source": [
        " Загрузка данных и первичный анализ"
      ],
      "metadata": {
        "id": "TmwBO3GirmSU"
      }
    },
    {
      "cell_type": "code",
      "source": [
        "print(\"Размер датасета:\", df.shape)\n",
        "print(\"\\nПропуски в данных:\\n\", df.isnull().sum())\n",
        "print(\"\\nКоличество дубликатов:\", df.duplicated().sum())\n"
      ],
      "metadata": {
        "colab": {
          "base_uri": "https://localhost:8080/"
        },
        "collapsed": true,
        "id": "VQoyBCOWXUtd",
        "outputId": "0ab1d7a2-3967-43b0-c1a3-47ae5910f175"
      },
      "execution_count": 29,
      "outputs": [
        {
          "output_type": "stream",
          "name": "stdout",
          "text": [
            "Размер датасета: (27756048, 4)\n",
            "\n",
            "Пропуски в данных:\n",
            " Unnamed: 0    0\n",
            "client_id     0\n",
            "dt            0\n",
            "event_type    0\n",
            "dtype: int64\n",
            "\n",
            "Количество дубликатов: 0\n"
          ]
        }
      ]
    },
    {
      "cell_type": "code",
      "source": [
        "\n",
        "print(df.dtypes)\n",
        "\n",
        "print(df.head())\n"
      ],
      "metadata": {
        "colab": {
          "base_uri": "https://localhost:8080/"
        },
        "id": "RmL2_sozwTBs",
        "outputId": "1b0f8b99-7f53-4d31-97e3-66ddfafadd2f"
      },
      "execution_count": 30,
      "outputs": [
        {
          "output_type": "stream",
          "name": "stdout",
          "text": [
            "Unnamed: 0     int64\n",
            "client_id      int64\n",
            "dt            object\n",
            "event_type    object\n",
            "dtype: object\n",
            "   Unnamed: 0  client_id          dt event_type\n",
            "0           0    6095092  2024-06-20     clicks\n",
            "1           1  541138559  2024-06-18     clicks\n",
            "2           2   12189072  2024-06-20     clicks\n",
            "3           3  674385020  2024-06-20     clicks\n",
            "4           4  726939378  2024-06-20     clicks\n"
          ]
        }
      ]
    },
    {
      "cell_type": "markdown",
      "source": [
        "Приведение dt к datetime, удаление Unnamed: 0"
      ],
      "metadata": {
        "id": "lEYuURzHsAk2"
      }
    },
    {
      "cell_type": "code",
      "source": [
        "# Убираем лишний столбец\n",
        "df = df.drop(columns=[\"Unnamed: 0\"])\n",
        "\n",
        "# Преобразуем дату в datetime\n",
        "df[\"dt\"] = pd.to_datetime(df[\"dt\"])\n",
        "\n",
        "# Проверяем изменения\n",
        "print(df.dtypes)\n",
        "print(df.head())\n"
      ],
      "metadata": {
        "colab": {
          "base_uri": "https://localhost:8080/"
        },
        "id": "eAEg9nwVvUYE",
        "outputId": "04166d8a-8c11-4400-d700-b32129ab1df3"
      },
      "execution_count": 31,
      "outputs": [
        {
          "output_type": "stream",
          "name": "stdout",
          "text": [
            "client_id              int64\n",
            "dt            datetime64[ns]\n",
            "event_type            object\n",
            "dtype: object\n",
            "   client_id         dt event_type\n",
            "0    6095092 2024-06-20     clicks\n",
            "1  541138559 2024-06-18     clicks\n",
            "2   12189072 2024-06-20     clicks\n",
            "3  674385020 2024-06-20     clicks\n",
            "4  726939378 2024-06-20     clicks\n"
          ]
        }
      ]
    },
    {
      "cell_type": "markdown",
      "source": [
        "Преобразование данных к воронке, где на каждую дату для каждого client_id будет указано:\n",
        "\n",
        "Был ли просмотр магазина (views = 1, если был, 0 – если нет)\n",
        "Был ли клик на рекламу (clicks = 1, если был, 0 – если нет)\n",
        "Было ли добавление товара (adds = 1, если было, 0 – если нет)"
      ],
      "metadata": {
        "id": "5xtTOENhsOQQ"
      }
    },
    {
      "cell_type": "code",
      "source": [
        "\n",
        "df_funnel = df.pivot_table(\n",
        "    index=[\"client_id\", \"dt\"],\n",
        "    columns=\"event_type\",\n",
        "    aggfunc=\"size\",\n",
        "    fill_value=0\n",
        ").reset_index()\n",
        "\n",
        "# Переименуем колонки\n",
        "df_funnel.columns = [\"client_id\", \"dt\", \"adds\", \"clicks\", \"views\"]\n",
        "\n",
        "# Преобразуем данные: если событие было хотя бы раз, ставим 1\n",
        "df_funnel[[\"adds\", \"clicks\", \"views\"]] = (df_funnel[[\"adds\", \"clicks\", \"views\"]] > 0).astype(int)\n",
        "\n",
        "\n",
        "print(df_funnel.head())\n"
      ],
      "metadata": {
        "colab": {
          "base_uri": "https://localhost:8080/"
        },
        "id": "qGQ1W8Izvl8C",
        "outputId": "5bf6b613-c817-4dd0-ca29-b5d1f7a59a13"
      },
      "execution_count": 32,
      "outputs": [
        {
          "output_type": "stream",
          "name": "stdout",
          "text": [
            "   client_id         dt  adds  clicks  views\n",
            "0          1 2024-06-17     0       0      1\n",
            "1          1 2024-06-19     0       0      1\n",
            "2          3 2024-06-17     0       1      1\n",
            "3          3 2024-06-18     0       1      1\n",
            "4          3 2024-06-19     1       1      1\n"
          ]
        }
      ]
    },
    {
      "cell_type": "code",
      "source": [
        "import numpy as np\n"
      ],
      "metadata": {
        "id": "jIj1ybi9wN7o"
      },
      "execution_count": 8,
      "outputs": []
    },
    {
      "cell_type": "markdown",
      "source": [
        "Ключевые метрики До эксперимента"
      ],
      "metadata": {
        "id": "TjS98wZiwbnq"
      }
    },
    {
      "cell_type": "code",
      "source": [
        "# Оставляем только тех, у кого были клики\n",
        "df_funnel_filtered = df_funnel[df_funnel['clicks'] > 0].copy()\n",
        "\n",
        "# Функция для расчета дисперсии ratio-метрик\n",
        "def var_ratio(x, y):\n",
        "    mean_x = np.mean(x)\n",
        "    mean_y = np.mean(y)\n",
        "    var_x = np.var(x, ddof=1)\n",
        "    var_y = np.var(y, ddof=1)\n",
        "    cov_xy = np.cov(x, y, ddof=1)[0][1]\n",
        "    return var_x / mean_y**2 + var_y * mean_x**2 / mean_y**4 - 2 * mean_x * cov_xy / mean_y**3\n",
        "\n",
        "# Расчет CTR\n",
        "mean_ctr = df_funnel_filtered['clicks'].sum() / df_funnel_filtered['views'].sum()\n",
        "var_ctr = var_ratio(df_funnel_filtered['clicks'], df_funnel_filtered['views'])\n",
        "\n",
        "# Расчет CR\n",
        "mean_cr = df_funnel_filtered['adds'].sum() / df_funnel_filtered['clicks'].sum()\n",
        "var_cr = var_ratio(df_funnel_filtered['adds'], df_funnel_filtered['clicks'])\n",
        "\n",
        "# Выводим результаты\n",
        "print(f\"Средний CTR: {mean_ctr:.6f}\")\n",
        "print(f\"Дисперсия CTR: {var_ctr:.6f}\")\n",
        "print(f\"\\nСредний CR: {mean_cr:.6f}\")\n",
        "print(f\"Дисперсия CR: {var_cr:.6f}\")\n"
      ],
      "metadata": {
        "colab": {
          "base_uri": "https://localhost:8080/"
        },
        "id": "97DxMxm8vnsw",
        "outputId": "26c7c7c2-5ced-44b9-c8c8-2f5b9433ec2d"
      },
      "execution_count": 33,
      "outputs": [
        {
          "output_type": "stream",
          "name": "stdout",
          "text": [
            "Средний CTR: 1.027216\n",
            "Дисперсия CTR: 0.028717\n",
            "\n",
            "Средний CR: 0.219304\n",
            "Дисперсия CR: 0.171210\n"
          ]
        }
      ]
    },
    {
      "cell_type": "code",
      "source": [
        "from scipy import stats\n",
        "import numpy as np\n",
        "import pandas as pd\n",
        "\n",
        "# Функция расчета MDE\n",
        "def get_MDE(mu, std, sample_size, n_groups=2, target_share=0.5, r=1, alpha=0.05, beta=0.2):\n",
        "    \"\"\"Возвращает MDE для метрики при заданных параметрах теста.\"\"\"\n",
        "    t_alpha = stats.norm.ppf(1 - ((alpha / 2)), loc=0, scale=1)\n",
        "    comparisons = n_groups - 1\n",
        "    t_beta = stats.norm.ppf(1 - beta, loc=0, scale=1)\n",
        "    sample_ratio_correction = r + 2 + 1 / r\n",
        "    mde = np.sqrt(sample_ratio_correction) * (t_alpha + t_beta) * std / np.sqrt(sample_size * (1 - target_share * (comparisons - 1)))\n",
        "    return mde, mde * 100 / mu\n",
        "\n",
        "# Размеры выборки\n",
        "sample_sizes = [50_000, 100_000, 200_000, 500_000, 1_000_000]\n",
        "\n",
        "# Расчет MDE для CR\n",
        "mde_results = []\n",
        "for size in sample_sizes:\n",
        "    mde_abs, mde_percent = get_MDE(mu=mean_cr, std=np.sqrt(var_cr), sample_size=size)\n",
        "    mde_results.append([size, mde_abs, mde_percent])\n",
        "\n",
        "# Создаем DataFrame с результатами\n",
        "df_mde = pd.DataFrame(mde_results, columns=[\"Размер выборки\", \"MDE (абс.)\", \"MDE (%)\"])\n",
        "print(df_mde)\n"
      ],
      "metadata": {
        "colab": {
          "base_uri": "https://localhost:8080/"
        },
        "id": "-Vf26tQHvnhW",
        "outputId": "424e3a6d-4c1a-4cf1-9a62-936b15f1bf0f"
      },
      "execution_count": 10,
      "outputs": [
        {
          "output_type": "stream",
          "name": "stdout",
          "text": [
            "   Размер выборки  MDE (абс.)   MDE (%)\n",
            "0           50000    0.010368  4.727889\n",
            "1          100000    0.007332  3.343122\n",
            "2          200000    0.005184  2.363944\n",
            "3          500000    0.003279  1.495090\n",
            "4         1000000    0.002318  1.057188\n"
          ]
        }
      ]
    },
    {
      "cell_type": "code",
      "source": [
        "# общее количество уникальных пользователей\n",
        "total_users = df[\"client_id\"].nunique()\n",
        "max_users_for_test = int(total_users * 0.2)  # 20% от общего числа\n",
        "\n",
        "print(f\"Общее количество уникальных пользователей: {total_users}\")\n",
        "print(f\"Максимальное количество пользователей для теста и контроля: {max_users_for_test}\")\n"
      ],
      "metadata": {
        "colab": {
          "base_uri": "https://localhost:8080/"
        },
        "id": "PM9GV289wlYo",
        "outputId": "caaf4ecf-9447-46a8-ccc8-74cd842dd775"
      },
      "execution_count": 34,
      "outputs": [
        {
          "output_type": "stream",
          "name": "stdout",
          "text": [
            "Общее количество уникальных пользователей: 3102736\n",
            "Максимальное количество пользователей для теста и контроля: 620547\n"
          ]
        }
      ]
    },
    {
      "cell_type": "markdown",
      "source": [
        " Оставл. только те размеры выборки, которые меньше лимита"
      ],
      "metadata": {
        "id": "Lh6LIOycsHvz"
      }
    },
    {
      "cell_type": "code",
      "source": [
        "\n",
        "df_mde_filtered = df_mde[df_mde[\"Размер выборки\"] <= max_users_for_test].copy()\n",
        "\n",
        "print(\"Обновленная таблица MDE:\")\n",
        "print(df_mde_filtered)\n"
      ],
      "metadata": {
        "colab": {
          "base_uri": "https://localhost:8080/"
        },
        "id": "wFiRzj-GxUoQ",
        "outputId": "c19b2a90-2e32-47f5-8ecf-92e710588e5f"
      },
      "execution_count": 35,
      "outputs": [
        {
          "output_type": "stream",
          "name": "stdout",
          "text": [
            "Обновленная таблица MDE:\n",
            "   Размер выборки  MDE (абс.)   MDE (%)\n",
            "0           50000    0.010368  4.727889\n",
            "1          100000    0.007332  3.343122\n",
            "2          200000    0.005184  2.363944\n",
            "3          500000    0.003279  1.495090\n"
          ]
        }
      ]
    },
    {
      "cell_type": "code",
      "source": [
        "import matplotlib.pyplot as plt\n",
        "\n",
        "plt.figure(figsize=(8, 5))\n",
        "plt.plot(df_mde[\"Размер выборки\"], df_mde[\"MDE (%)\"], marker='o', linestyle='-')\n",
        "plt.xlabel(\"Размер выборки\")\n",
        "plt.ylabel(\"MDE (%)\")\n",
        "plt.title(\"MDE в зависимости от размера выборки\")\n",
        "plt.grid(True)\n",
        "plt.show()\n"
      ],
      "metadata": {
        "colab": {
          "base_uri": "https://localhost:8080/",
          "height": 487
        },
        "id": "i0hCdPcHxove",
        "outputId": "f484e7a6-d0a3-40e7-8b87-739b3a016e1c"
      },
      "execution_count": 13,
      "outputs": [
        {
          "output_type": "display_data",
          "data": {
            "text/plain": [
              "<Figure size 800x500 with 1 Axes>"
            ],
            "image/png": "[encoded data removed]"
          },
          "metadata": {}
        }
      ]
    },
    {
      "cell_type": "markdown",
      "source": [
        "Вторая часть теста"
      ],
      "metadata": {
        "id": "-wh9nZK3x78d"
      }
    },
    {
      "cell_type": "code",
      "source": [
        "# Проверяем размер датасета\n",
        "print(\"Размер датасета:\", df2.shape)\n",
        "\n",
        "# Выводим типы данных\n",
        "print(\"\\nТипы данных:\\n\", df2.dtypes)\n",
        "\n",
        "# Проверяем пропущенные значения\n",
        "print(\"\\nПропуски в данных:\\n\", df2.isnull().sum())\n",
        "\n",
        "# Проверяем количество дубликатов\n",
        "print(\"\\nКоличество дубликатов:\", df2.duplicated().sum())\n",
        "\n",
        "# Выводим первые строки\n",
        "print(\"\\nПервые 5 строк:\\n\", df2.head())\n"
      ],
      "metadata": {
        "colab": {
          "base_uri": "https://localhost:8080/"
        },
        "collapsed": true,
        "id": "0TGdz3zJxIgl",
        "outputId": "bbfd910b-5e3e-4d16-909f-e6c6d9fd767a"
      },
      "execution_count": 14,
      "outputs": [
        {
          "output_type": "stream",
          "name": "stdout",
          "text": [
            "Размер датасета: (981510, 11)\n",
            "\n",
            "Типы данных:\n",
            " date              datetime64[ns]\n",
            "client_id                  int64\n",
            "ab_group                  object\n",
            "is_view_ads                int64\n",
            "cnt_view_ads               int64\n",
            "is_adds_ads                int64\n",
            "cnt_adds_ads               int64\n",
            "sum_adds_ads               int64\n",
            "is_orders_ads              int64\n",
            "cnt_orders_ads             int64\n",
            "sum_orders_ads             int64\n",
            "dtype: object\n",
            "\n",
            "Пропуски в данных:\n",
            " date              0\n",
            "client_id         0\n",
            "ab_group          0\n",
            "is_view_ads       0\n",
            "cnt_view_ads      0\n",
            "is_adds_ads       0\n",
            "cnt_adds_ads      0\n",
            "sum_adds_ads      0\n",
            "is_orders_ads     0\n",
            "cnt_orders_ads    0\n",
            "sum_orders_ads    0\n",
            "dtype: int64\n",
            "\n",
            "Количество дубликатов: 6486\n",
            "\n",
            "Первые 5 строк:\n",
            "         date  client_id ab_group  is_view_ads  cnt_view_ads  is_adds_ads  \\\n",
            "0 2024-07-26    8881380     test            0             0            0   \n",
            "1 2024-07-28  850950385     test            0             0            0   \n",
            "2 2024-07-25      50885  control            0             0            0   \n",
            "3 2024-07-26     601239  control            0             0            0   \n",
            "4 2024-07-28  694655866  control            0             0            0   \n",
            "\n",
            "   cnt_adds_ads  sum_adds_ads  is_orders_ads  cnt_orders_ads  sum_orders_ads  \n",
            "0             0             0              0               0               0  \n",
            "1             0             0              0               0               0  \n",
            "2             0             0              0               0               0  \n",
            "3             0             0              0               0               0  \n",
            "4             0             0              0               0               0  \n"
          ]
        }
      ]
    },
    {
      "cell_type": "markdown",
      "source": [
        "Проверка на дубликаты"
      ],
      "metadata": {
        "id": "tvlh2_dtyoCM"
      }
    },
    {
      "cell_type": "code",
      "source": [
        "print(f\"Полные дубликаты: {df2.duplicated().sum()}\")\n"
      ],
      "metadata": {
        "colab": {
          "base_uri": "https://localhost:8080/"
        },
        "id": "YwFkX0lZwlRk",
        "outputId": "3908de4a-ca0e-4a26-bb85-7a512eb5c38e"
      },
      "execution_count": 15,
      "outputs": [
        {
          "output_type": "stream",
          "name": "stdout",
          "text": [
            "Полные дубликаты: 6486\n"
          ]
        }
      ]
    },
    {
      "cell_type": "markdown",
      "source": [
        "Проверка есть ли пользователи в обеих группах"
      ],
      "metadata": {
        "id": "jbwvCikYyt58"
      }
    },
    {
      "cell_type": "code",
      "source": [
        "# Считаем, сколько раз каждый client_id встречается с разными значениями ab_group\n",
        "user_groups = df2.groupby(\"client_id\")[\"ab_group\"].nunique()\n",
        "\n",
        "# Находим тех, кто встречается в обеих группах\n",
        "multi_group_users = user_groups[user_groups > 1].index\n",
        "\n",
        "print(f\"Пользователей, попавших в обе группы: {len(multi_group_users)}\")\n"
      ],
      "metadata": {
        "colab": {
          "base_uri": "https://localhost:8080/"
        },
        "id": "R3inI0d_yqKZ",
        "outputId": "91881320-9331-4b94-d403-434774dbc23f"
      },
      "execution_count": 16,
      "outputs": [
        {
          "output_type": "stream",
          "name": "stdout",
          "text": [
            "Пользователей, попавших в обе группы: 6393\n"
          ]
        }
      ]
    },
    {
      "cell_type": "markdown",
      "source": [
        "удаление полных дубликатов"
      ],
      "metadata": {
        "id": "9tR2NQvvy6dF"
      }
    },
    {
      "cell_type": "code",
      "source": [
        "df2 = df2.drop_duplicates().copy()\n",
        "print(f\"После удаления дубликатов размер df2: {df2.shape}\")\n"
      ],
      "metadata": {
        "colab": {
          "base_uri": "https://localhost:8080/"
        },
        "id": "n54qnfwWyqG_",
        "outputId": "f700a0cf-6e12-4c62-eb06-c4ae147f1e0d"
      },
      "execution_count": 17,
      "outputs": [
        {
          "output_type": "stream",
          "name": "stdout",
          "text": [
            "После удаления дубликатов размер df2: (975024, 11)\n"
          ]
        }
      ]
    },
    {
      "cell_type": "markdown",
      "source": [
        "удаление попавших в обе группы"
      ],
      "metadata": {
        "id": "Y2k3TKj9zBUa"
      }
    },
    {
      "cell_type": "code",
      "source": [
        "df2 = df2[~df2[\"client_id\"].isin(multi_group_users)].copy()\n",
        "print(f\"После удаления пользователей из обеих групп размер df2: {df2.shape}\")\n"
      ],
      "metadata": {
        "colab": {
          "base_uri": "https://localhost:8080/"
        },
        "id": "vcDo49zqyqDt",
        "outputId": "00c8fa77-449f-4ee2-fcab-056b70e843d8"
      },
      "execution_count": 18,
      "outputs": [
        {
          "output_type": "stream",
          "name": "stdout",
          "text": [
            "После удаления пользователей из обеих групп размер df2: (940417, 11)\n"
          ]
        }
      ]
    },
    {
      "cell_type": "code",
      "source": [
        "# Группируем данные по группам и считаем метрики\n",
        "metrics_clean = df2.groupby('ab_group').agg(\n",
        "    total_revenue=('sum_orders_ads', 'sum'),   # Суммарная выручка\n",
        "    total_users=('client_id', 'nunique'),      # Число уникальных пользователей\n",
        "    arpu=('sum_orders_ads', 'mean'),           # Средний доход на пользователя (ARPU)\n",
        "    ctr=('is_adds_ads', 'mean'),               # CTR (доля пользователей, взаимодействовавших с рекламой)\n",
        "    cr_adds=('is_adds_ads', 'mean'),           # CR в добавление товаров\n",
        "    cr_orders=('is_orders_ads', 'mean')        # CR в заказы\n",
        ").reset_index()\n",
        "\n",
        "# Выводим пересчитанные метрики\n",
        "print(metrics_clean)\n"
      ],
      "metadata": {
        "colab": {
          "base_uri": "https://localhost:8080/"
        },
        "id": "RJkl5J3DzDpA",
        "outputId": "9b110ee5-e9d5-4e82-994c-b0fe9ad229dc"
      },
      "execution_count": 19,
      "outputs": [
        {
          "output_type": "stream",
          "name": "stdout",
          "text": [
            "  ab_group  total_revenue  total_users      arpu       ctr   cr_adds  \\\n",
            "0  control        1565756       194393  3.335235  0.014564  0.014564   \n",
            "1     test        1666543       194081  3.538623  0.014589  0.014589   \n",
            "\n",
            "   cr_orders  \n",
            "0   0.012749  \n",
            "1   0.012931  \n"
          ]
        }
      ]
    },
    {
      "cell_type": "markdown",
      "source": [
        "Проверка статистической значимости изменений\n",
        "\n",
        "\n"
      ],
      "metadata": {
        "id": "nGHTjKuoznBM"
      }
    },
    {
      "cell_type": "code",
      "source": [
        "from scipy.stats import ttest_ind\n",
        "from statsmodels.stats.proportion import proportions_ztest\n",
        "\n",
        "# T-тест для ARPU\n",
        "stat_arpu, pval_arpu = ttest_ind(\n",
        "    df2[df2[\"ab_group\"] == \"test\"][\"sum_orders_ads\"],\n",
        "    df2[df2[\"ab_group\"] == \"control\"][\"sum_orders_ads\"],\n",
        "    equal_var=False\n",
        ")\n",
        "print(f\"ARPU: t-stat={stat_arpu:.4f}, p-value={pval_arpu:.4f}\")\n",
        "\n",
        "# Z-тест для CR Adds и CR Orders\n",
        "for metric in [\"is_adds_ads\", \"is_orders_ads\"]:\n",
        "    count_test = df2[df2[\"ab_group\"] == \"test\"][metric].sum()\n",
        "    count_control = df2[df2[\"ab_group\"] == \"control\"][metric].sum()\n",
        "    nobs_test = df2[df2[\"ab_group\"] == \"test\"].shape[0]\n",
        "    nobs_control = df2[df2[\"ab_group\"] == \"control\"].shape[0]\n",
        "\n",
        "    stat, pval = proportions_ztest([count_test, count_control], [nobs_test, nobs_control])\n",
        "    print(f\"{metric}: Z-stat={stat:.4f}, p-value={pval:.4f}\")\n"
      ],
      "metadata": {
        "colab": {
          "base_uri": "https://localhost:8080/"
        },
        "id": "pLVAXbyCyprh",
        "outputId": "ea803e07-9bf1-47df-8b02-5e608c79f5d3"
      },
      "execution_count": 20,
      "outputs": [
        {
          "output_type": "stream",
          "name": "stdout",
          "text": [
            "ARPU: t-stat=2.1231, p-value=0.0337\n",
            "is_adds_ads: Z-stat=0.1045, p-value=0.9167\n",
            "is_orders_ads: Z-stat=0.7854, p-value=0.4322\n"
          ]
        }
      ]
    },
    {
      "cell_type": "code",
      "source": [
        "import matplotlib.pyplot as plt\n",
        "import seaborn as sns\n",
        "\n",
        "# Данные для графика\n",
        "metrics_data = {\n",
        "    \"Метрика\": [\"ARPU\", \"CR Adds\", \"CR Orders\", \"CTR\"],\n",
        "    \"Тест\": [3.54, 0.0146, 0.0129, 0.0146],  # Значения для тестовой группы\n",
        "    \"Контроль\": [3.33, 0.0146, 0.0127, 0.0145],  # Значения для контрольной группы\n",
        "    \"p-value\": [0.0337, 0.9167, 0.4322, 0.8034]  # p-values\n",
        "}\n",
        "\n",
        "# Создаем DataFrame\n",
        "df_metrics = pd.DataFrame(metrics_data)\n",
        "\n",
        "# Преобразуем DataFrame в длинный формат для Seaborn\n",
        "df_melted = df_metrics.melt(id_vars=[\"Метрика\", \"p-value\"], var_name=\"Группа\", value_name=\"Значение\")\n",
        "\n",
        "# Построение графика\n",
        "plt.figure(figsize=(10, 6))\n",
        "ax = sns.barplot(data=df_melted, x=\"Метрика\", y=\"Значение\", hue=\"Группа\", palette=[\"#4c72b0\", \"#dd8452\"])\n",
        "\n",
        "# Добавляем значения p-value\n",
        "for index, row in df_metrics.iterrows():\n",
        "    plt.text(index, max(row[\"Тест\"], row[\"Контроль\"]) + 0.05, f'p={row[\"p-value\"]:.3f}',\n",
        "             ha='center', fontsize=12, fontweight='bold', color=\"black\")\n",
        "\n",
        "plt.title(\"Результаты статистических тестов\")\n",
        "plt.ylabel(\"Значение метрики\")\n",
        "plt.xlabel(\"Метрика\")\n",
        "plt.legend(title=\"Группа\")\n",
        "plt.ylim(0, max(df_melted[\"Значение\"]) + 0.1)\n",
        "plt.grid(axis=\"y\", linestyle=\"--\", alpha=0.7)\n",
        "\n",
        "\n",
        "plt.show()\n"
      ],
      "metadata": {
        "colab": {
          "base_uri": "https://localhost:8080/",
          "height": 564
        },
        "id": "EyDc_1_80kOI",
        "outputId": "5ab3a28c-3e09-42b1-8ed5-763b8360c806"
      },
      "execution_count": 36,
      "outputs": [
        {
          "output_type": "display_data",
          "data": {
            "text/plain": [
              "<Figure size 1000x600 with 1 Axes>"
            ],
            "image/png": "[encoded data removed]"
          },
          "metadata": {}
        }
      ]
    },
    {
      "cell_type": "code",
      "source": [
        "\n",
        "\n",
        "# Данные из тестов\n",
        "metrics = [\"CTR\", \"CR Adds\", \"CR Orders\", \"ARPU\"]\n",
        "control_values = [0.014564, 0.014564, 0.012749, 3.335235]\n",
        "test_values = [0.014589, 0.014589, 0.012931, 3.538623]\n",
        "p_values = [0.9167, 0.9167, 0.4322, 0.0337]  # p-values\n",
        "\n",
        "# Создаем DataFrame\n",
        "df_stats = pd.DataFrame({\"Метрика\": metrics, \"Control\": control_values, \"Test\": test_values, \"p-value\": p_values})\n",
        "\n",
        "# Построение графика\n",
        "plt.figure(figsize=(10, 6))\n",
        "df_stats_melted = df_stats.melt(id_vars=\"Метрика\", value_vars=[\"Control\", \"Test\"], var_name=\"Группа\", value_name=\"Значение\")\n",
        "\n",
        "sns.barplot(x=\"Метрика\", y=\"Значение\", hue=\"Группа\", data=df_stats_melted, palette=[\"#3498db\", \"#e74c3c\"])\n",
        "plt.title(\"Сравнение метрик между тестом и контролем\")\n",
        "plt.xlabel(\"Метрика\")\n",
        "plt.ylabel(\"Значение\")\n",
        "plt.legend(title=\"Группа\")\n",
        "\n",
        "# Добавляем p-values\n",
        "for i, p in enumerate(p_values):\n",
        "    plt.text(i, max(control_values[i], test_values[i]) + 0.0005, f\"p={p:.4f}\", ha=\"center\", fontsize=10, color=\"black\")\n",
        "\n",
        "plt.show()\n"
      ],
      "metadata": {
        "colab": {
          "base_uri": "https://localhost:8080/",
          "height": 564
        },
        "id": "Zn0p4HSazmVj",
        "outputId": "0628c781-c181-492d-cd0b-d9b5b77f146f"
      },
      "execution_count": 38,
      "outputs": [
        {
          "output_type": "display_data",
          "data": {
            "text/plain": [
              "<Figure size 1000x600 with 1 Axes>"
            ],
            "image/png": "[encoded data removed]"
          },
          "metadata": {}
        }
      ]
    },
    {
      "cell_type": "code",
      "source": [
        "# Группируем данные по группам и рассчитываем дополнительные метрики\n",
        "extra_metrics = df2.groupby(\"ab_group\").agg(\n",
        "    avg_check_orders=(\"sum_orders_ads\", lambda x: x.sum() / x.count()),  # Средний чек заказа\n",
        "    avg_orders_per_user=(\"cnt_orders_ads\", lambda x: x.sum() / df2[\"client_id\"].nunique())  # Среднее число заказов на пользователя\n",
        ").reset_index()\n",
        "\n",
        "# Выводим результаты\n",
        "print(extra_metrics)\n"
      ],
      "metadata": {
        "colab": {
          "base_uri": "https://localhost:8080/"
        },
        "id": "IC_BSYVJW3hT",
        "outputId": "3568ae1f-70fd-4746-af28-b448ad97fa2d"
      },
      "execution_count": 23,
      "outputs": [
        {
          "output_type": "stream",
          "name": "stdout",
          "text": [
            "  ab_group  avg_check_orders  avg_orders_per_user\n",
            "0  control          3.335235             0.014145\n",
            "1     test          3.538623             0.014951\n"
          ]
        }
      ]
    },
    {
      "cell_type": "code",
      "source": [
        "from scipy.stats import ttest_ind\n",
        "\n",
        "# T-тест для проверки различий\n",
        "for metric in [\"sum_orders_ads\", \"cnt_orders_ads\"]:\n",
        "    test_group = df2[df2[\"ab_group\"] == \"test\"][metric]\n",
        "    control_group = df2[df2[\"ab_group\"] == \"control\"][metric]\n",
        "\n",
        "    stat, pval = ttest_ind(test_group, control_group, equal_var=False)\n",
        "    print(f\"{metric}: T-stat = {stat:.4f}, p-value = {pval:.4f}\")\n"
      ],
      "metadata": {
        "colab": {
          "base_uri": "https://localhost:8080/"
        },
        "id": "Nnek8UVdZyfw",
        "outputId": "edddd627-a46b-4a00-dc3b-e273c01d550c"
      },
      "execution_count": 24,
      "outputs": [
        {
          "output_type": "stream",
          "name": "stdout",
          "text": [
            "sum_orders_ads: T-stat = 2.1231, p-value = 0.0337\n",
            "cnt_orders_ads: T-stat = 2.1627, p-value = 0.0306\n"
          ]
        }
      ]
    },
    {
      "cell_type": "code",
      "source": [],
      "metadata": {
        "id": "MPGXs6lcW3Zc"
      },
      "execution_count": null,
      "outputs": []
    },
    {
      "cell_type": "code",
      "source": [],
      "metadata": {
        "id": "UncA4wVNW3Un"
      },
      "execution_count": null,
      "outputs": []
    },
    {
      "cell_type": "code",
      "source": [],
      "metadata": {
        "id": "dhjVwBQEW3Jq"
      },
      "execution_count": null,
      "outputs": []
    },
    {
      "cell_type": "code",
      "source": [],
      "metadata": {
        "id": "DoOSQ93OzmRx"
      },
      "execution_count": null,
      "outputs": []
    }
  ]
}